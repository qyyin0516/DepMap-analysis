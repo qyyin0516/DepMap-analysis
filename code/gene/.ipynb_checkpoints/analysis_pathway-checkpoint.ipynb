{
 "cells": [
  {
   "cell_type": "code",
   "execution_count": 1,
   "id": "c54d98e2-52c6-4510-8e2a-57b24327c7bb",
   "metadata": {},
   "outputs": [],
   "source": [
    "import numpy as np\n",
    "import pandas as pd\n",
    "import random\n",
    "import networkx as nx\n",
    "from biomart import BiomartServer\n",
    "import collections\n",
    "from scipy.stats import mannwhitneyu, wilcoxon, pearsonr\n",
    "from statsmodels.stats.multitest import multipletests\n",
    "\n",
    "random.seed(1999)\n",
    "np.random.seed(1999)"
   ]
  },
  {
   "cell_type": "code",
   "execution_count": 2,
   "id": "9ef75fe7-1f8c-411f-81d1-6ebb619f3803",
   "metadata": {},
   "outputs": [],
   "source": [
    "data = pd.read_csv(\"../../dataset/CRISPRGeneEffect.csv\", index_col=0)\n",
    "gene_col = list(data.columns)\n",
    "for i in range(len(gene_col)):\n",
    "    gene_col[i] = gene_col[i].split(' ')[0]\n",
    "data.columns = gene_col\n",
    "gene_info = pd.read_csv(\"../../dataset/InputGene/ScreenedGene.csv\")\n",
    "gene_info = gene_info.drop_duplicates(subset=['From'], keep='first')\n",
    "data = data[gene_info.iloc[:, 0]]\n",
    "data.columns = gene_info.iloc[:, 1]\n",
    "ifnull = data.isnull().sum()\n",
    "data = data[ifnull[ifnull == 0].index]\n",
    "mean_dep = data.mean()"
   ]
  },
  {
   "cell_type": "code",
   "execution_count": 3,
   "id": "bb0f1d8a-f262-4f64-85ab-4d18ffe26afb",
   "metadata": {},
   "outputs": [],
   "source": [
    "expr = pd.read_csv(\"../../dataset/OmicsExpressionProteinCodingGenesTPMLogp1.csv\", index_col=0)\n",
    "\n",
    "gene_col = list(expr.columns)\n",
    "for i in range(len(gene_col)):\n",
    "    gene_col[i] = gene_col[i].split(' ')[0]\n",
    "expr.columns = gene_col\n",
    "gene_info = pd.read_csv(\"../../dataset/InputGene/ExpressionGene.csv\")\n",
    "gene_info = gene_info.drop_duplicates(subset=['From'], keep='first')\n",
    "expr = expr[gene_info.iloc[:, 0]]\n",
    "expr.columns = gene_info.iloc[:, 1]\n",
    "ifnull = expr.isnull().sum()\n",
    "expr = expr[ifnull[ifnull == 0].index]\n",
    "mean_expr = expr.mean()"
   ]
  },
  {
   "cell_type": "code",
   "execution_count": 4,
   "id": "42981051-761c-40f8-a3ef-345366c95add",
   "metadata": {},
   "outputs": [
    {
     "name": "stderr",
     "output_type": "stream",
     "text": [
      "/tmp/SLURM_24272134/ipykernel_16568/831326495.py:1: DtypeWarning: Columns (49,50,51,53) have mixed types. Specify dtype option on import or set low_memory=False.\n",
      "  mutation = pd.read_csv(\"../../dataset/OmicsSomaticMutations.csv\")\n",
      "/tmp/SLURM_24272134/ipykernel_16568/831326495.py:5: DtypeWarning: Columns (18) have mixed types. Specify dtype option on import or set low_memory=False.\n",
      "  clinvar = pd.read_csv(\"../../dataset/ClinVar/ClinVar_variant_summary.txt\", delimiter='\\t')\n"
     ]
    }
   ],
   "source": [
    "mutation = pd.read_csv(\"../../dataset/OmicsSomaticMutations.csv\")\n",
    "mutation = mutation[mutation['VariantType'] == 'SNP']\n",
    "mutation = mutation[['Chrom', 'Pos', 'HugoSymbol', 'ModelID']]\n",
    "\n",
    "clinvar = pd.read_csv(\"../../dataset/ClinVar/ClinVar_variant_summary.txt\", delimiter='\\t')\n",
    "clinvar = clinvar[clinvar['Assembly'] == \"GRCh38\"]\n",
    "clinvar = clinvar[clinvar['Type'] == \"single nucleotide variant\"]\n",
    "pathogenicity = pd.read_csv(\"../../dataset/ClinVar/pathogenicity.csv\", index_col=0)\n",
    "pathogenetic_type = list(pathogenicity[pathogenicity['Pathogenicity'] == 'Y']['Category'])\n",
    "mutation_patho = clinvar[clinvar['ClinicalSignificance'].isin(pathogenetic_type)]\n",
    "mutation_patho = mutation_patho[[\"Chromosome\", \"Start\", \"GeneSymbol\"]]\n",
    "mutation_patho['Chromosome'] = mutation_patho['Chromosome'].apply(lambda x: 'chr' + str(x))\n",
    "mutation['ID'] = mutation['Chrom'] + '-' + mutation['Pos'].astype(str)\n",
    "mutation_patho['ID'] = mutation_patho['Chromosome'] + '-' + mutation_patho['Start'].astype(str)\n",
    "mutation = mutation.sort_values(by=['ID'])\n",
    "mutation_patho = mutation_patho.sort_values(by=['ID'])\n",
    "mutation = pd.merge(mutation, mutation_patho, on='ID', how='inner')\n",
    "mutation = mutation[['ModelID', 'HugoSymbol']]\n",
    "mutation = mutation.sort_values([\"HugoSymbol\", \"ModelID\"])\n",
    "mutation = mutation.drop_duplicates()\n",
    "mutation.index = range(mutation.shape[0])"
   ]
  },
  {
   "cell_type": "code",
   "execution_count": 5,
   "id": "649b1a19-aefe-4ec7-98cd-bedc3eb0202d",
   "metadata": {},
   "outputs": [],
   "source": [
    "p1 = pd.read_csv(\"../../result/supervised/pathway/pathways_BRAF.csv\", index_col = 0)\n",
    "p2 = pd.read_csv(\"../../result/supervised/pathway/pathways_CDH3.csv\", index_col = 0)\n",
    "p3 = pd.read_csv(\"../../result/supervised/pathway/pathways_HRAS.csv\", index_col = 0)\n",
    "p4 = pd.read_csv(\"../../result/supervised/pathway/pathways_KRAS.csv\", index_col = 0)\n",
    "p5 = pd.read_csv(\"../../result/supervised/pathway/pathways_NRAS.csv\", index_col = 0)\n",
    "p6 = pd.read_csv(\"../../result/supervised/pathway/pathways_PIK3CA.csv\", index_col = 0)\n",
    "p7 = pd.read_csv(\"../../result/supervised/pathway/pathways_SCN5A.csv\", index_col = 0)\n",
    "p8 = pd.read_csv(\"../../result/supervised/pathway/pathways_SERPINH1.csv\", index_col = 0)\n",
    "p9 = pd.read_csv(\"../../result/supervised/pathway/pathways_TP53.csv\", index_col = 0)\n",
    "p10 = pd.read_csv(\"../../result/supervised/pathway/pathways_VDR.csv\", index_col = 0)\n",
    "p1['gene'] = 'BRAF'\n",
    "p2['gene'] = 'CDH3'\n",
    "p3['gene'] = 'HRAS'\n",
    "p4['gene'] = 'KRAS'\n",
    "p5['gene'] = 'NRAS'\n",
    "p6['gene'] = 'PIK3CA'\n",
    "p7['gene'] = 'SCN5A'\n",
    "p8['gene'] = 'SERPINH1'\n",
    "p9['gene'] = 'TP53'\n",
    "p10['gene'] = 'VDR'\n",
    "pathway = pd.concat([p1, p2, p3, p4, p5, p6, p7, p8, p9, p10], ignore_index=True)\n",
    "pathway = pathway.sort_values(\"value\", ascending=False)\n",
    "pathway = pathway.drop_duplicates(subset='pathway', keep='first')"
   ]
  },
  {
   "cell_type": "code",
   "execution_count": 6,
   "id": "f782f701-e236-463f-9d3a-7aa045a9b2df",
   "metadata": {},
   "outputs": [],
   "source": [
    "mut_gene = pathway['gene'].unique()\n",
    "label = pd.DataFrame(data=0, index=mut_gene, columns=data.index)\n",
    "for i in range(label.shape[0]):\n",
    "    mut_sub = mutation[mutation['HugoSymbol'] == mut_gene[i]]\n",
    "    model_sub = list(set(mut_sub['ModelID']) & set(label.columns))\n",
    "    label.iloc[i][model_sub] = 1"
   ]
  },
  {
   "cell_type": "code",
   "execution_count": 7,
   "id": "e8d95da3-b7ad-449c-ac65-61fde1b09b99",
   "metadata": {},
   "outputs": [],
   "source": [
    "server = BiomartServer(\"http://www.ensembl.org/biomart\")\n",
    "dataset = server.datasets['hsapiens_gene_ensembl']"
   ]
  },
  {
   "cell_type": "code",
   "execution_count": null,
   "id": "a5e9185a-2d6e-47f0-8968-40464288800f",
   "metadata": {},
   "outputs": [],
   "source": [
    "### coefficient of variation ###"
   ]
  },
  {
   "cell_type": "code",
   "execution_count": 8,
   "id": "7597ba86-5426-4933-9bfa-8ce689fedd7f",
   "metadata": {},
   "outputs": [],
   "source": [
    "intersect = list(set(expr.index) & set(data.index))\n",
    "label = label[intersect]\n",
    "expr_new = expr.loc[intersect]"
   ]
  },
  {
   "cell_type": "code",
   "execution_count": 9,
   "id": "0b867e49-3f61-4c94-85f4-5235605c5df8",
   "metadata": {},
   "outputs": [],
   "source": [
    "p_value = []\n",
    "for i in range(pathway.shape[0]):\n",
    "    p, gene_model = pathway.iloc[i, 0], pathway.iloc[i, 2]\n",
    "    response = dataset.search({\n",
    "    'filters': {\n",
    "        'reactome': p\n",
    "    },\n",
    "    'attributes': [\n",
    "        'ensembl_gene_id',\n",
    "    ]\n",
    "    })\n",
    "    genes = [line.split(\"\\t\")[0] for line in response.text.strip().split(\"\\n\")]\n",
    "\n",
    "    expr1 = expr_new[label.loc[gene_model] == 1][list(set(expr_new.columns) & set(genes))]\n",
    "    expr0 = expr_new[label.loc[gene_model] == 0][list(set(expr_new.columns) & set(genes))]\n",
    "    cv1 = expr1.std() / expr1.mean()\n",
    "    cv0 = expr0.std() / expr0.mean()\n",
    "    cv1 = cv1.to_numpy()\n",
    "    cv0 = cv0.to_numpy()\n",
    "    mask = ~np.isnan(cv1) & ~np.isnan(cv0)\n",
    "    cv1 = cv1[mask]\n",
    "    cv0 = cv0[mask]\n",
    "    stat, p = wilcoxon(cv1, cv0)\n",
    "    p_value.append(p)"
   ]
  },
  {
   "cell_type": "code",
   "execution_count": 10,
   "id": "d56037df-9a8a-41c4-ba79-d9420fe3f284",
   "metadata": {},
   "outputs": [],
   "source": [
    "p_adj = multipletests(p_value, method='fdr_bh')[1]"
   ]
  },
  {
   "cell_type": "code",
   "execution_count": 11,
   "id": "5fc46246-3178-4782-8d07-eeb94244f55a",
   "metadata": {},
   "outputs": [],
   "source": [
    "sum_sig = 0\n",
    "for i in range(len(p_adj)):\n",
    "    if p_adj[i] <= 0.05:\n",
    "        sum_sig += 1"
   ]
  },
  {
   "cell_type": "code",
   "execution_count": 12,
   "id": "1702f29f-d6f1-4f98-bbae-848368056f58",
   "metadata": {},
   "outputs": [
    {
     "data": {
      "text/plain": [
       "277"
      ]
     },
     "execution_count": 12,
     "metadata": {},
     "output_type": "execute_result"
    }
   ],
   "source": [
    "sum_sig"
   ]
  },
  {
   "cell_type": "code",
   "execution_count": 76,
   "id": "517d10bf-091c-4fa4-8ed6-91ff985e4d17",
   "metadata": {},
   "outputs": [
    {
     "data": {
      "text/plain": [
       "343"
      ]
     },
     "execution_count": 76,
     "metadata": {},
     "output_type": "execute_result"
    }
   ],
   "source": [
    "len(p_adj)"
   ]
  },
  {
   "cell_type": "code",
   "execution_count": 77,
   "id": "f41b77c1-b9a0-4533-9cfb-39e25e62265c",
   "metadata": {},
   "outputs": [
    {
     "data": {
      "text/plain": [
       "array([3.75909040e-022, 4.31575095e-009, 2.67068040e-075, 5.27037630e-039,\n",
       "       1.23760916e-028, 2.97910467e-003, 9.62749074e-025, 6.26310052e-017,\n",
       "       3.13712919e-059, 3.64243075e-018, 4.26422021e-010, 2.62474496e-045,\n",
       "       6.77047458e-026, 3.30822300e-027, 1.20964687e-020, 6.47418549e-013,\n",
       "       6.99240016e-015, 6.38826458e-010, 4.74512405e-037, 4.83239722e-001,\n",
       "       2.48038863e-046, 3.80431348e-021, 7.87570158e-061, 1.41185809e-009,\n",
       "       7.10936323e-001, 8.03010882e-024, 4.47868066e-001, 1.68020845e-045,\n",
       "       9.72562020e-001, 1.60184620e-017, 2.96742046e-008, 1.24990324e-001,\n",
       "       4.14720853e-036, 1.86128697e-015, 1.60184620e-017, 4.29963203e-001,\n",
       "       1.08411847e-017, 6.17922761e-011, 1.68233077e-050, 3.00355155e-058,\n",
       "       1.40622988e-065, 3.56396113e-017, 4.16720710e-001, 1.15657117e-010,\n",
       "       3.18196772e-005, 3.94967104e-040, 5.41313482e-014, 5.22704911e-045,\n",
       "       2.82971975e-016, 9.67019796e-004, 5.57741561e-001, 3.44476726e-001,\n",
       "       3.40677151e-022, 9.21491261e-079, 5.25336594e-011, 3.39755046e-001,\n",
       "       3.01865645e-002, 5.38435861e-004, 5.79006877e-004, 8.03217996e-014,\n",
       "       3.59545939e-007, 1.73629224e-007, 8.74279050e-007, 4.22052428e-024,\n",
       "       2.68604821e-002, 7.83168226e-004, 2.07599937e-002, 4.99539643e-002,\n",
       "       6.04109497e-001, 4.78935549e-005, 5.15110127e-001, 8.92036715e-007,\n",
       "       8.04658070e-006, 5.31964344e-004, 8.15067439e-002, 3.11474855e-002,\n",
       "       1.23760916e-028, 4.41434615e-001, 3.79294914e-009, 2.97910467e-003,\n",
       "       1.82338334e-004, 2.00541560e-003, 2.59437261e-004, 2.65276588e-007,\n",
       "       5.25562764e-003, 3.96876134e-003, 3.59257937e-013, 7.67452706e-003,\n",
       "       1.85851507e-106, 4.10551301e-003, 5.70401820e-005, 2.36726025e-028,\n",
       "       2.44734792e-014, 8.55515087e-001, 2.90315871e-001, 1.21080409e-005,\n",
       "       8.68571173e-015, 6.52380714e-001, 1.07569544e-008, 1.54047875e-004,\n",
       "       6.22413353e-009, 1.79991415e-018, 6.44685300e-008, 1.56205802e-002,\n",
       "       1.09898748e-014, 9.20617717e-003, 3.09676809e-010, 6.45181052e-006,\n",
       "       1.54527048e-003, 4.03989807e-001, 4.16481167e-003, 4.06581451e-012,\n",
       "       6.85673013e-003, 5.69626361e-006, 3.69836281e-005, 9.85279832e-009,\n",
       "       5.83343944e-003, 2.32767849e-017, 5.74919150e-022, 9.01364265e-016,\n",
       "       9.51527274e-012, 6.58937457e-003, 8.30133151e-008, 9.33076552e-003,\n",
       "       2.39890462e-005, 9.55105643e-003, 6.04109497e-001, 4.69512650e-011,\n",
       "       3.72213187e-004, 2.23723100e-009, 4.16720710e-001, 2.08083829e-003,\n",
       "       9.20626347e-008, 1.12434441e-001, 1.48915758e-009, 8.42105274e-012,\n",
       "       7.58641627e-001, 9.03106034e-003, 3.66853918e-007, 9.04031945e-006,\n",
       "       6.34825776e-001, 5.01790402e-012, 1.29637693e-003, 1.01773707e-013,\n",
       "       3.15895641e-010, 4.23468192e-026, 7.59986900e-001, 5.52496316e-010,\n",
       "       3.55574580e-011, 3.80384933e-002, 1.60496765e-007, 2.84032757e-017,\n",
       "       7.71990294e-001, 7.73600652e-005, 1.61332507e-011, 9.76165667e-011,\n",
       "       4.53695609e-004, 3.52262082e-023, 8.21674300e-004, 3.72213187e-004,\n",
       "       2.95629727e-001, 1.95586516e-010, 5.41313482e-014, 2.76844810e-002,\n",
       "       4.38786371e-012, 8.32465401e-003, 3.53577033e-001, 2.78961050e-003,\n",
       "       1.34108599e-002, 4.78659407e-008, 1.06096878e-018, 6.88437196e-011,\n",
       "       5.15940170e-006, 5.55859558e-007, 3.67500565e-006, 1.14997583e-008,\n",
       "       4.29333597e-002, 1.80919340e-005, 7.71990294e-001, 1.15195849e-006,\n",
       "       2.71581179e-012, 7.53311732e-003, 5.55859558e-007, 6.66999206e-014,\n",
       "       6.34825776e-001, 1.60817057e-003, 1.26373818e-003, 1.74388013e-001,\n",
       "       3.50384145e-003, 1.41752189e-016, 1.46083237e-003, 4.16481167e-003,\n",
       "       6.35589965e-003, 2.84124014e-007, 4.46613524e-001, 4.91329138e-002,\n",
       "       3.83170628e-005, 6.29021770e-005, 2.99432334e-001, 1.80429990e-001,\n",
       "       4.51507708e-002, 1.15676583e-003, 3.37504495e-005, 8.29921921e-003,\n",
       "       1.14613958e-005, 5.21201809e-005, 6.34002503e-009, 8.58977443e-001,\n",
       "       1.70373078e-003, 2.28663526e-008, 1.73924982e-009, 1.52827269e-006,\n",
       "       1.42343557e-001, 3.21769099e-002, 3.47771019e-001, 1.45864067e-003,\n",
       "       4.96354566e-062, 7.65122440e-003, 1.67066965e-003, 6.05165075e-008,\n",
       "       6.28702342e-003, 3.16307287e-004, 4.21340331e-003, 1.88272312e-001,\n",
       "       1.32006538e-002, 2.11853080e-001, 8.54110838e-005, 1.03897528e-003,\n",
       "       9.01056859e-002, 6.13978447e-013, 1.06067662e-005, 1.19715732e-006,\n",
       "       7.88393933e-025, 5.37600277e-007, 2.93762785e-003, 5.36049523e-005,\n",
       "       7.45983372e-010, 1.41420960e-003, 4.87215909e-002, 8.74012177e-004,\n",
       "       4.74922352e-003, 7.54112983e-001, 1.28215668e-002, 4.10551301e-003,\n",
       "       6.44765997e-003, 2.61654513e-012, 6.00887382e-004, 4.23948033e-007,\n",
       "       7.06799613e-009, 5.46302759e-003, 2.79511323e-001, 6.11120641e-003,\n",
       "       1.64789701e-002, 1.60791224e-002, 1.40079752e-004, 7.65746021e-001,\n",
       "       4.55174404e-005, 7.77961995e-001, 3.54811401e-001, 1.76439372e-005,\n",
       "       2.56570301e-009, 7.89763754e-011, 8.60600075e-003, 2.36858798e-002,\n",
       "       2.81045284e-008, 9.36439502e-009, 2.25784613e-002, 1.29713479e-006,\n",
       "       2.04736027e-038, 1.14883490e-006, 1.59327637e-002, 6.72180775e-001,\n",
       "       1.69027395e-002, 9.64049612e-003, 7.71990294e-001, 1.89551999e-002,\n",
       "       1.15708736e-003, 4.58260178e-003, 6.72180775e-001, 4.16262136e-001,\n",
       "       1.28663381e-002, 2.58620368e-003, 1.52173992e-010, 5.70956143e-003,\n",
       "       5.15101835e-011, 4.29274334e-009, 3.45184032e-003, 7.02211487e-010,\n",
       "       1.48773328e-003, 1.42941175e-003, 1.25412604e-002, 4.93247885e-003,\n",
       "       5.20601869e-002, 2.94646091e-006, 2.95629727e-001, 8.20039500e-004,\n",
       "       2.73134754e-005, 1.27586229e-005, 2.94646091e-006, 4.42391680e-003,\n",
       "       2.66440186e-003, 1.42642410e-003, 5.83191386e-015, 2.78961050e-003,\n",
       "       1.80363582e-002, 6.26231318e-001, 3.37423317e-006, 1.38860155e-004,\n",
       "       2.85056135e-010, 6.34395715e-005, 7.09755535e-004, 2.84341446e-001,\n",
       "       2.79823351e-010, 7.77400970e-001, 7.53578047e-005, 9.02682534e-015,\n",
       "       3.21582732e-003, 6.00382918e-007, 5.18105047e-002, 7.81180985e-002,\n",
       "       2.62280734e-002, 2.39434407e-001, 1.27586229e-005, 1.27889617e-001,\n",
       "       7.69114316e-002, 3.00438887e-001, 8.10521233e-001, 3.29445781e-004,\n",
       "       3.27855490e-005, 5.20601869e-002, 1.58036082e-014, 5.83125207e-001,\n",
       "       9.57776397e-005, 1.20284638e-005, 3.18270454e-006, 2.27864583e-001,\n",
       "       2.68604821e-002, 2.97910467e-003, 7.62722489e-002, 9.35205196e-001,\n",
       "       1.01331282e-004, 3.98730910e-012, 1.00000000e+000])"
      ]
     },
     "execution_count": 77,
     "metadata": {},
     "output_type": "execute_result"
    }
   ],
   "source": [
    "p_adj"
   ]
  },
  {
   "cell_type": "code",
   "execution_count": null,
   "id": "30541bcc-9b3b-4540-9704-c8d609494bcb",
   "metadata": {},
   "outputs": [],
   "source": [
    "### path distance ###"
   ]
  },
  {
   "cell_type": "code",
   "execution_count": 8,
   "id": "a791970c-7177-4821-b1c8-7ed313f53cab",
   "metadata": {},
   "outputs": [],
   "source": [
    "mut_gene = pd.read_csv(\"../../dataset/InputGene/temp.csv\", header=None)\n",
    "label = pd.DataFrame(data=0, index=mut_gene.iloc[:, 0], columns=data.index)\n",
    "for i in range(label.shape[0]):\n",
    "    mut_sub = mutation[mutation['HugoSymbol'] == mut_gene.iloc[i, 0]]\n",
    "    model_sub = list(set(mut_sub['ModelID']) & set(label.columns))\n",
    "    label.iloc[i][model_sub] = 1"
   ]
  },
  {
   "cell_type": "code",
   "execution_count": 10,
   "id": "5987609b-e58b-4e30-9257-7a1c794aa50a",
   "metadata": {},
   "outputs": [],
   "source": [
    "def get_gene_pathways(input_file, species='human'):\n",
    "    dt = pd.read_table(input_file, header=None)\n",
    "    ensembl = dt[((dt[0] >= 'ENSG00000000000000') & (dt[0] <= 'ENSG00099999999999'))\n",
    "                 | ((dt[0] >= 'ENSP00000000000000') & (dt[0] <= 'ENSP00099999999999'))\n",
    "                 | ((dt[0] >= 'ENST00000000000000') & (dt[0] <= 'ENST00099999999999'))]\n",
    "\n",
    "    ensembl = ensembl.iloc[:, 0:2]\n",
    "    ensembl.columns = ['gene', 'group']\n",
    "    ensembl = pd.DataFrame(ensembl, columns=['group', 'gene'])\n",
    "    ensembl.index = range(0, ensembl.shape[0])\n",
    "\n",
    "    for i in range(0, ensembl.shape[0]):\n",
    "        ensembl.iloc[i, 1] = 'ENSG000' + ensembl.iloc[i, 1][7:18]\n",
    "\n",
    "    ensembl = ensembl.drop_duplicates()\n",
    "    ensembl.index = range(0, ensembl.shape[0])\n",
    "    return ensembl"
   ]
  },
  {
   "cell_type": "code",
   "execution_count": 11,
   "id": "6f786b56-4f8d-4a10-8c65-917cd0305156",
   "metadata": {},
   "outputs": [],
   "source": [
    "pathway_genes = get_gene_pathways(\"../../dataset/reactome/Ensembl2Reactome_All_Levels.txt\", species='human')\n",
    "pathway_names = '../../dataset/reactome/ReactomePathways.txt'\n",
    "relations_file_name = '../../dataset/reactome/ReactomePathwaysRelation.txt'\n",
    "root_name = [0, 1]"
   ]
  },
  {
   "cell_type": "code",
   "execution_count": 12,
   "id": "28186b32-4a82-4b99-926c-8a3ac51cfa26",
   "metadata": {},
   "outputs": [],
   "source": [
    "class Reactome():\n",
    "\n",
    "    def __init__(self, pathway_names, pathway_genes, relations_file_name, species):\n",
    "        self.pathway_names = self.load_names(pathway_names)\n",
    "        self.pathway_genes = pathway_genes\n",
    "        self.hierarchy = self.load_hierarchy(relations_file_name)\n",
    "        self.species = species\n",
    "\n",
    "    def load_names(self, pathway_names):\n",
    "        filename = pathway_names\n",
    "        df = pd.read_csv(filename, sep='\\t')\n",
    "        df.columns = ['reactome_id', 'pathway_name', 'species']\n",
    "        return df\n",
    "\n",
    "    def load_hierarchy(self, relations_file_name):\n",
    "        filename = relations_file_name\n",
    "        df = pd.read_table(filename, header=None)\n",
    "        df.columns = ['child', 'parent']\n",
    "        return df\n",
    "\n",
    "\n",
    "class ReactomeNetwork():\n",
    "\n",
    "    def __init__(self, pathway_names, pathway_genes, relations_file_name, species):\n",
    "        self.reactome = Reactome(pathway_names, pathway_genes, relations_file_name,\n",
    "                                 species)  \n",
    "        self.netx = self.get_reactome_networkx()\n",
    "\n",
    "    def get_reactome_networkx(self):\n",
    "        if hasattr(self, 'netx'):\n",
    "            return self.netx\n",
    "        hierarchy = self.reactome.hierarchy\n",
    "\n",
    "        if self.reactome.species == 'mouse':\n",
    "            abbr = 'MMU'\n",
    "        elif self.reactome.species == 'human':\n",
    "            abbr = 'HSA'\n",
    "        elif self.reactome.species == 'rat':\n",
    "            abbr = 'RNO'\n",
    "        species_hierarchy = hierarchy[hierarchy['child'].str.contains(abbr)]\n",
    "        net = nx.from_pandas_edgelist(species_hierarchy, 'child', 'parent', create_using=nx.DiGraph())\n",
    "        net.name = 'reactome'\n",
    "\n",
    "        # add root node\n",
    "        roots = [n for n, d in net.in_degree() if d == 0]\n",
    "        root_node = 'root'\n",
    "        edges = [(root_node, n) for n in roots]\n",
    "        net.add_edges_from(edges)\n",
    "\n",
    "        return net"
   ]
  },
  {
   "cell_type": "code",
   "execution_count": 13,
   "id": "101996a4-5048-4b81-b01d-b61739900eb1",
   "metadata": {},
   "outputs": [],
   "source": [
    "def add_duplicated_edges(G, node, n_levels):\n",
    "    edges = []\n",
    "    source = node\n",
    "    for l in range(n_levels):\n",
    "        target = node + '_copy' + str(l + 1)\n",
    "        edge = (source, target)\n",
    "        source = target\n",
    "        edges.append(edge)\n",
    "\n",
    "    G.add_edges_from(edges)\n",
    "    return G, target\n",
    "\n",
    "\n",
    "def add_gene_edges(G, node, pathways, genes_df):\n",
    "    genes = []\n",
    "    if type(pathways) == str:\n",
    "        genes = genes + list(genes_df[genes_df['group'] == pathways]['gene'])\n",
    "    else:\n",
    "        for i in range(len(pathways)):\n",
    "            genes = genes + list(genes_df[genes_df['group'] == pathways[i]]['gene'])\n",
    "    genes = list(set(genes))\n",
    "    edges = []\n",
    "    source = node\n",
    "    for target in genes:\n",
    "        edge = (source, target)\n",
    "        edges.append(edge)\n",
    "    G.add_edges_from(edges)\n",
    "    return G\n",
    "\n",
    "\n",
    "def get_nodes_at_level(net, distance):\n",
    "    nodes = set(nx.ego_graph(net, 'root', radius=distance))  # get all nodes within distance around the query node\n",
    "    if distance >= 1.:\n",
    "        nodes -= set(nx.ego_graph(net, 'root',\n",
    "                                  radius=distance - 1))  # remove nodes that are not at the specified distance but closer\n",
    "    return list(nodes)\n",
    "\n",
    "\n",
    "def gene_mapping(gene, df):\n",
    "    inter_gene = list(set(gene) & set(df['gene']))\n",
    "    genedict = {}\n",
    "    genelist = [df.iloc[0, 0]]\n",
    "    genedict[df.iloc[0, 1]] = genelist\n",
    "    for i in range(1, df.shape[0]):\n",
    "        if df.iloc[i, 1] == df.iloc[i - 1, 1]:\n",
    "            genelist.append(df.iloc[i, 0])\n",
    "        else:\n",
    "            genedict[df.iloc[i - 1, 1]] = genelist\n",
    "            genelist = [df.iloc[i, 0]]\n",
    "    mappingdf = pd.DataFrame(data=None, columns=['group', 'gene'])\n",
    "    for j in range(len(inter_gene)):\n",
    "        mappingdf_iter = {'group': genedict[inter_gene[j]],\n",
    "                          'gene': [inter_gene[j]] * len(genedict[inter_gene[j]])}\n",
    "        mappingdf_iter = pd.DataFrame(mappingdf_iter)\n",
    "        mappingdf = pd.concat([mappingdf, mappingdf_iter])\n",
    "    return mappingdf"
   ]
  },
  {
   "cell_type": "code",
   "execution_count": 14,
   "id": "18cf12fd-c61e-4a88-bd41-feb9cd908bab",
   "metadata": {},
   "outputs": [],
   "source": [
    "data_gene_in = data.columns.tolist()\n",
    "species = 'human'\n",
    "n_hidden = 3\n",
    "\n",
    "reactome_net = ReactomeNetwork(pathway_names, pathway_genes, relations_file_name, species)\n",
    "genes_df = reactome_net.reactome.pathway_genes\n",
    "genes_df = gene_mapping(data_gene_in, genes_df)\n",
    "\n",
    "original_network = reactome_net.netx\n",
    "original_terminal_nodes = [n for n, d in original_network.out_degree() if d == 0]\n",
    "in_genes_df = [False for x in range(0, len(original_terminal_nodes))]\n",
    "while in_genes_df.count(False) > 0:\n",
    "    in_genes_df = [False for x in range(0, len(original_terminal_nodes))]\n",
    "    for i in range(len(original_terminal_nodes)):\n",
    "        if original_terminal_nodes[i] in genes_df['group'].to_list():\n",
    "            in_genes_df[i] = True\n",
    "    for i in range(len(original_terminal_nodes)):\n",
    "        if in_genes_df[i] == False:\n",
    "            original_network.remove_node(original_terminal_nodes[i])\n",
    "    original_terminal_nodes = [n for n, d in original_network.out_degree() if d == 0]\n",
    "\n",
    "sub_graph = nx.ego_graph(original_network, 'root',\n",
    "                         radius=n_hidden)  # subgraph of neighbors centered at node \"root\" <= a given radius (n_level).\n",
    "sub_terminal_nodes = [n for n, d in sub_graph.out_degree() if d == 0]\n",
    "for node in sub_terminal_nodes:\n",
    "    distance = len(nx.shortest_path(sub_graph, source='root',\n",
    "                                    target=node))  # len of distance: num of nodes in the shortest path\n",
    "    if (distance == n_hidden + 1) & (node not in original_terminal_nodes):\n",
    "        part_graph = nx.ego_graph(original_network, node, radius=100)\n",
    "        corresponding_terminal_nodes = [n for n, d in part_graph.out_degree() if d == 0]\n",
    "        sub_graph = add_gene_edges(sub_graph, node, corresponding_terminal_nodes, genes_df)\n",
    "    elif (distance == n_hidden + 1) & (node in original_terminal_nodes):\n",
    "        corresponding_terminal_nodes = node\n",
    "        sub_graph = add_gene_edges(sub_graph, node, corresponding_terminal_nodes, genes_df)\n",
    "    elif distance <= n_hidden:\n",
    "        diff = n_hidden - distance + 1\n",
    "        sub_graph, copy_node = add_duplicated_edges(sub_graph, node, diff)\n",
    "        sub_graph = add_gene_edges(sub_graph, copy_node, node, genes_df)\n",
    "final_network = sub_graph"
   ]
  },
  {
   "cell_type": "code",
   "execution_count": 15,
   "id": "aa2708fa-aa10-4dcc-8d3e-3e9830e4f348",
   "metadata": {},
   "outputs": [],
   "source": [
    "level_dict = {}\n",
    "roots = [node for node in final_network.nodes if final_network.in_degree(node) == 0]\n",
    "for root in roots:\n",
    "    path_lengths = nx.single_source_shortest_path_length(final_network, root)\n",
    "    for node, length in path_lengths.items():\n",
    "        if node in level_dict:\n",
    "            level_dict[node] = min(level_dict[node], length)\n",
    "        else:\n",
    "            level_dict[node] = length"
   ]
  },
  {
   "cell_type": "code",
   "execution_count": 16,
   "id": "81a28e98-ffa6-4135-8d92-9e284d8c06bd",
   "metadata": {},
   "outputs": [],
   "source": [
    "levels = collections.defaultdict(list)\n",
    "for node, level in level_dict.items():\n",
    "    if not node.startswith(\"ENSG\"):\n",
    "        levels[level].append(node)"
   ]
  },
  {
   "cell_type": "code",
   "execution_count": 17,
   "id": "c94f05c4-0562-46f8-b2fa-22659b069734",
   "metadata": {},
   "outputs": [],
   "source": [
    "mut_gene['ensembl'] = mut_gene[0].map(gene_info.set_index('From')['To'])\n",
    "mut_gene = mut_gene.drop(8)\n",
    "mut_gene.columns = ['gene name', 'ensembl']\n",
    "mut_gene = mut_gene.iloc[0:9, :]\n",
    "mut_gene = mut_gene.sort_values(by='gene name')\n",
    "mut_gene.index = range(9)"
   ]
  },
  {
   "cell_type": "code",
   "execution_count": 18,
   "id": "dc598bb6-7261-416f-aac6-58f5802aa37c",
   "metadata": {},
   "outputs": [],
   "source": [
    "# path_length = {}\n",
    "# for i in range(9):\n",
    "#     path_length[mut_gene.iloc[i, 0]] = pd.DataFrame(columns=['experimental group', 'control group'])\n",
    "#     for p in pathway[i]['pathway']:\n",
    "#         try:\n",
    "#             exp_distance = nx.shortest_path_length(final_network, source=p, target=mut_gene.iloc[i, 1])\n",
    "#         except nx.NetworkXNoPath:\n",
    "#             exp_distance = float('inf') \n",
    "#         rand_pathway = levels[level_dict[p]][random.randint(0, len(levels[level_dict[p]]) - 1)]\n",
    "#         try:\n",
    "#             ctrl_distance = nx.shortest_path_length(final_network, source=rand_pathway, target=mut_gene.iloc[i, 1])\n",
    "#         except nx.NetworkXNoPath:\n",
    "#             ctrl_distance = float('inf') \n",
    "#         path_length[mut_gene.iloc[i, 0]].loc[p] = [exp_distance, ctrl_distance]"
   ]
  },
  {
   "cell_type": "code",
   "execution_count": 19,
   "id": "8546e867-0388-46eb-8f46-29625516a5f8",
   "metadata": {},
   "outputs": [],
   "source": [
    "# for k in path_length.keys():\n",
    "#     path_length[k].to_csv(k + \"_path_length.csv\")"
   ]
  },
  {
   "cell_type": "code",
   "execution_count": 41,
   "id": "47390df0-9367-4a64-91e4-9f28151834e1",
   "metadata": {},
   "outputs": [],
   "source": [
    "pathway = [p1, p3, p4, p5, p6, p7, p8, p9, p10]"
   ]
  },
  {
   "cell_type": "code",
   "execution_count": 42,
   "id": "fc12e5d3-cdd2-435d-968c-54fef7eca4b1",
   "metadata": {},
   "outputs": [],
   "source": [
    "undirected_network = final_network.to_undirected()\n",
    "p_adj_all = pd.DataFrame(index=mut_gene['gene name'], columns=range(20))\n",
    "correlation_all = pd.DataFrame(index=mut_gene['gene name'], columns=range(20))\n",
    "path_length = {}\n",
    "for i in range(9):\n",
    "    p_value, correlation = [], []\n",
    "    for times in range(20):\n",
    "        path_length[mut_gene.iloc[i, 0]] = pd.DataFrame(columns=['experimental group', 'control group'])\n",
    "        for p in pathway[i]['pathway']:\n",
    "            exp_distance = nx.shortest_path_length(undirected_network, source=p, target=mut_gene.iloc[i, 1])\n",
    "            rand_pathway = levels[level_dict[p]][random.randint(0, len(levels[level_dict[p]]) - 1)]\n",
    "            ctrl_distance = nx.shortest_path_length(undirected_network, source=rand_pathway, target=mut_gene.iloc[i, 1])\n",
    "            path_length[mut_gene.iloc[i, 0]].loc[p] = [exp_distance, ctrl_distance]\n",
    "        _, pval = wilcoxon(path_length[mut_gene.iloc[i, 0]]['experimental group'], path_length[mut_gene.iloc[i, 0]]['control group'])\n",
    "        corr, _ = pearsonr((path_length[mut_gene.iloc[i, 0]]['experimental group'] - path_length[mut_gene.iloc[i, 0]]['control group']) / path_length[mut_gene.iloc[i, 0]]['experimental group'], range(1, len(pathway[i]['pathway']) + 1))\n",
    "        p_value.append(pval)\n",
    "        correlation.append(corr)\n",
    "    _, p_value_adj, _, _ = multipletests(p_value, alpha=0.05, method='fdr_bh')\n",
    "    p_adj_all.loc[mut_gene.iloc[i, 0]] = p_value_adj\n",
    "    correlation_all.loc[mut_gene.iloc[i, 0]] = correlation"
   ]
  }
 ],
 "metadata": {
  "kernelspec": {
   "display_name": "Python 3.9.2",
   "language": "python",
   "name": "py392"
  },
  "language_info": {
   "codemirror_mode": {
    "name": "ipython",
    "version": 3
   },
   "file_extension": ".py",
   "mimetype": "text/x-python",
   "name": "python",
   "nbconvert_exporter": "python",
   "pygments_lexer": "ipython3",
   "version": "3.9.2"
  }
 },
 "nbformat": 4,
 "nbformat_minor": 5
}
