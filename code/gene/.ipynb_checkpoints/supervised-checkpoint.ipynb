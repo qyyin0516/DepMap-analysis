{
 "cells": [
  {
   "cell_type": "code",
   "execution_count": 1,
   "id": "4a1bac57-71ad-4459-8ff3-06adc632adf5",
   "metadata": {},
   "outputs": [
    {
     "name": "stderr",
     "output_type": "stream",
     "text": [
      "2024-07-11 13:38:22.678059: W tensorflow/stream_executor/platform/default/dso_loader.cc:64] Could not load dynamic library 'libcudart.so.11.0'; dlerror: libcudart.so.11.0: cannot open shared object file: No such file or directory\n",
      "2024-07-11 13:38:22.678117: I tensorflow/stream_executor/cuda/cudart_stub.cc:29] Ignore above cudart dlerror if you do not have a GPU set up on your machine.\n"
     ]
    },
    {
     "name": "stdout",
     "output_type": "stream",
     "text": [
      "WARNING:tensorflow:From /home1/yinq/.local/lib/python3.9/site-packages/tensorflow/python/compat/v2_compat.py:107: disable_resource_variables (from tensorflow.python.ops.variable_scope) is deprecated and will be removed in a future version.\n",
      "Instructions for updating:\n",
      "non-resource variables are not supported in the long term\n"
     ]
    }
   ],
   "source": [
    "import numpy as np\n",
    "import pandas as pd\n",
    "import random\n",
    "from sklearn.model_selection import train_test_split\n",
    "from sklearn.metrics import accuracy_score, classification_report\n",
    "from pathway_hierarchy import *\n",
    "from neural_network import *\n",
    "from utils import *\n",
    "\n",
    "random.seed(1999)\n",
    "np.random.seed(1999)"
   ]
  },
  {
   "cell_type": "code",
   "execution_count": 11,
   "id": "8d3bb99b-02fe-40a0-b7ba-219933220219",
   "metadata": {},
   "outputs": [],
   "source": [
    "input_gene_path = \"../dataset/InputGene/3008Gene.csv\"\n",
    "output_path = \"3008FunctionalGene.csv\"\n",
    "if_functional = True\n",
    "start_idx = 0\n",
    "end_idx = 1\n",
    "n_hidden = 3\n",
    "learning_rate = 0.01\n",
    "minibatch_size = 128\n",
    "num_epochs = 100\n",
    "gamma = 0.0001"
   ]
  },
  {
   "cell_type": "code",
   "execution_count": 4,
   "id": "66c3f3a5-aea4-46eb-acab-890444890972",
   "metadata": {},
   "outputs": [
    {
     "name": "stderr",
     "output_type": "stream",
     "text": [
      "/tmp/SLURM_22715133/ipykernel_30767/523973126.py:2: DtypeWarning: Columns (49,50,51,53) have mixed types. Specify dtype option on import or set low_memory=False.\n",
      "  mutation = pd.read_csv(\"../dataset/OmicsSomaticMutations.csv\")\n",
      "/tmp/SLURM_22715133/ipykernel_30767/523973126.py:7: DtypeWarning: Columns (18) have mixed types. Specify dtype option on import or set low_memory=False.\n",
      "  clinvar = pd.read_csv(\"../dataset/ClinVar/ClinVar_variant_summary.txt\", delimiter='\\t')\n"
     ]
    }
   ],
   "source": [
    "data = pd.read_csv(\"../dataset/CRISPRGeneEffect.csv\", index_col=0)\n",
    "mutation = pd.read_csv(\"../dataset/OmicsSomaticMutations.csv\")\n",
    "mutation = mutation[mutation['VariantType'] == 'SNP']\n",
    "mutation = mutation[['Chrom', 'Pos', 'HugoSymbol', 'ModelID']]\n",
    "\n",
    "if if_functional:\n",
    "    clinvar = pd.read_csv(\"../dataset/ClinVar/ClinVar_variant_summary.txt\", delimiter='\\t')\n",
    "    clinvar = clinvar[clinvar['Assembly'] == \"GRCh38\"]\n",
    "    clinvar = clinvar[clinvar['Type'] == \"single nucleotide variant\"]\n",
    "    pathogenicity = pd.read_csv(\"../dataset/ClinVar/pathogenicity.csv\", index_col=0)\n",
    "    pathogenetic_type = list(pathogenicity[pathogenicity['Pathogenicity'] == 'Y']['Category'])\n",
    "    mutation_patho = clinvar[clinvar['ClinicalSignificance'].isin(pathogenetic_type)]\n",
    "    mutation_patho = mutation_patho[[\"Chromosome\", \"Start\", \"GeneSymbol\"]]\n",
    "    mutation_patho['Chromosome'] = mutation_patho['Chromosome'].apply(lambda x: 'chr' + str(x))\n",
    "    mutation['ID'] = mutation['Chrom'] + '-' + mutation['Pos'].astype(str)\n",
    "    mutation_patho['ID'] = mutation_patho['Chromosome'] + '-' + mutation_patho['Start'].astype(str)\n",
    "    mutation = mutation.sort_values(by=['ID'])\n",
    "    mutation_patho = mutation_patho.sort_values(by=['ID'])\n",
    "    mutation = pd.merge(mutation, mutation_patho, on='ID', how='inner')\n",
    "mutation = mutation[['ModelID', 'HugoSymbol']]\n",
    "mutation = mutation.sort_values([\"HugoSymbol\", \"ModelID\"])\n",
    "mutation = mutation.drop_duplicates()\n",
    "mutation.index = range(mutation.shape[0])"
   ]
  },
  {
   "cell_type": "code",
   "execution_count": 5,
   "id": "a29fad16-b4ff-44e7-b826-96050d661d15",
   "metadata": {},
   "outputs": [],
   "source": [
    "gene_col = list(data.columns)\n",
    "for i in range(len(gene_col)):\n",
    "    gene_col[i] = gene_col[i].split(' ')[0]\n",
    "data.columns = gene_col\n",
    "gene_info = pd.read_csv(\"../dataset/InputGene/ScreenedGene.csv\")\n",
    "gene_info = gene_info.drop_duplicates(subset=['From'], keep='first')\n",
    "data = data[gene_info.iloc[:, 0]]\n",
    "data.columns = gene_info.iloc[:, 1]\n",
    "ifnull = data.isnull().sum()\n",
    "data = data[ifnull[ifnull == 0].index]"
   ]
  },
  {
   "cell_type": "code",
   "execution_count": 6,
   "id": "d112ec5f-20dc-4896-82e6-268303a927e6",
   "metadata": {},
   "outputs": [],
   "source": [
    "#if gene_type == \"single\":\n",
    "mut_gene = pd.read_csv(input_gene_path)\n",
    "label = pd.DataFrame(data=0, index=mut_gene.iloc[:, 0], columns=data.index)\n",
    "for i in range(label.shape[0]):\n",
    "    mut_sub = mutation[mutation['HugoSymbol'] == mut_gene.iloc[i, 0]]\n",
    "    model_sub = list(set(mut_sub['ModelID']) & set(label.columns))\n",
    "    label.iloc[i][model_sub] = 1\n",
    "# elif gene_type == \"pair\":\n",
    "#     mut_gene = pd.read_csv(input_gene_path)\n",
    "#     mut_gene = mut_gene.iloc[start_idx:end_idx, :]\n",
    "#     label = pd.DataFrame(data='OO', index=mut_gene.iloc[:, 0] + '/' + mut_gene.iloc[:, 1], columns=data.index)\n",
    "#     for i in range(label.shape[0]):\n",
    "#         mut1 = mutation[mutation['HugoSymbol'] == mut_gene.iloc[i, 0]]\n",
    "#         model1 = list(set(mut1['ModelID']) & set(label.columns))\n",
    "#         mut2 = mutation[mutation['HugoSymbol'] == mut_gene.iloc[i, 1]]\n",
    "#         model2 = list(set(mut2['ModelID']) & set(label.columns))\n",
    "#         label.iloc[i][list(set(model2) - set(model1))] = 'OI'\n",
    "#         label.iloc[i][list(set(model1) - set(model2))] = 'IO'\n",
    "#         label.iloc[i][list(set(model1) & set(model2))] = 'II'"
   ]
  },
  {
   "cell_type": "code",
   "execution_count": 12,
   "id": "a5ad3649-d845-49a8-b462-8bb5ee00bd0a",
   "metadata": {},
   "outputs": [
    {
     "name": "stdout",
     "output_type": "stream",
     "text": [
      "Current neural network has 1 hidden layers.\n",
      "WARNING:tensorflow:From /home1/yinq/.local/lib/python3.9/site-packages/tensorflow/python/util/dispatch.py:1082: softmax_cross_entropy_with_logits (from tensorflow.python.ops.nn_ops) is deprecated and will be removed in a future version.\n",
      "Instructions for updating:\n",
      "\n",
      "Future major versions of TensorFlow will allow gradients to flow\n",
      "into the labels input on backprop by default.\n",
      "\n",
      "See `tf.nn.softmax_cross_entropy_with_logits_v2`.\n",
      "\n"
     ]
    },
    {
     "name": "stderr",
     "output_type": "stream",
     "text": [
      "2024-07-11 13:43:46.283215: W tensorflow/stream_executor/platform/default/dso_loader.cc:64] Could not load dynamic library 'libcuda.so.1'; dlerror: libcuda.so.1: cannot open shared object file: No such file or directory\n",
      "2024-07-11 13:43:46.283266: W tensorflow/stream_executor/cuda/cuda_driver.cc:269] failed call to cuInit: UNKNOWN ERROR (303)\n",
      "2024-07-11 13:43:46.283316: I tensorflow/stream_executor/cuda/cuda_diagnostics.cc:156] kernel driver does not appear to be running on this host (b02-17.hpc.usc.edu): /proc/driver/nvidia/version does not exist\n",
      "2024-07-11 13:43:46.283613: I tensorflow/core/platform/cpu_feature_guard.cc:193] This TensorFlow binary is optimized with oneAPI Deep Neural Network Library (oneDNN) to use the following CPU instructions in performance-critical operations:  AVX2 FMA\n",
      "To enable them in other operations, rebuild TensorFlow with the appropriate compiler flags.\n",
      "2024-07-11 13:43:46.303681: I tensorflow/compiler/mlir/mlir_graph_optimization_pass.cc:354] MLIR V1 optimization pass is not enabled\n",
      "/tmp/SLURM_22715133/ipykernel_30767/667472150.py:55: DeprecationWarning: In a future version, `df.iloc[:, i] = newvals` will attempt to set the values inplace instead of always setting a new array. To retain the old behavior, use either `df[df.columns[i]] = newvals` or, if columns are non-unique, `df.isetitem(i, newvals)`\n",
      "  y_train_pred_df.loc[:, output_layer] = pd.DataFrame(y_train_pred,\n",
      "/tmp/SLURM_22715133/ipykernel_30767/667472150.py:58: DeprecationWarning: In a future version, `df.iloc[:, i] = newvals` will attempt to set the values inplace instead of always setting a new array. To retain the old behavior, use either `df[df.columns[i]] = newvals` or, if columns are non-unique, `df.isetitem(i, newvals)`\n",
      "  y_test_pred_df.loc[:, output_layer] = pd.DataFrame(y_test_pred,\n"
     ]
    },
    {
     "name": "stdout",
     "output_type": "stream",
     "text": [
      "Current neural network has 2 hidden layers.\n"
     ]
    },
    {
     "name": "stderr",
     "output_type": "stream",
     "text": [
      "/tmp/SLURM_22715133/ipykernel_30767/667472150.py:55: DeprecationWarning: In a future version, `df.iloc[:, i] = newvals` will attempt to set the values inplace instead of always setting a new array. To retain the old behavior, use either `df[df.columns[i]] = newvals` or, if columns are non-unique, `df.isetitem(i, newvals)`\n",
      "  y_train_pred_df.loc[:, output_layer] = pd.DataFrame(y_train_pred,\n",
      "/tmp/SLURM_22715133/ipykernel_30767/667472150.py:58: DeprecationWarning: In a future version, `df.iloc[:, i] = newvals` will attempt to set the values inplace instead of always setting a new array. To retain the old behavior, use either `df[df.columns[i]] = newvals` or, if columns are non-unique, `df.isetitem(i, newvals)`\n",
      "  y_test_pred_df.loc[:, output_layer] = pd.DataFrame(y_test_pred,\n"
     ]
    },
    {
     "name": "stdout",
     "output_type": "stream",
     "text": [
      "Current neural network has 3 hidden layers.\n"
     ]
    },
    {
     "name": "stderr",
     "output_type": "stream",
     "text": [
      "/tmp/SLURM_22715133/ipykernel_30767/667472150.py:55: DeprecationWarning: In a future version, `df.iloc[:, i] = newvals` will attempt to set the values inplace instead of always setting a new array. To retain the old behavior, use either `df[df.columns[i]] = newvals` or, if columns are non-unique, `df.isetitem(i, newvals)`\n",
      "  y_train_pred_df.loc[:, output_layer] = pd.DataFrame(y_train_pred,\n",
      "/tmp/SLURM_22715133/ipykernel_30767/667472150.py:58: DeprecationWarning: In a future version, `df.iloc[:, i] = newvals` will attempt to set the values inplace instead of always setting a new array. To retain the old behavior, use either `df[df.columns[i]] = newvals` or, if columns are non-unique, `df.isetitem(i, newvals)`\n",
      "  y_test_pred_df.loc[:, output_layer] = pd.DataFrame(y_test_pred,\n"
     ]
    },
    {
     "ename": "NameError",
     "evalue": "name 'gene_type' is not defined",
     "output_type": "error",
     "traceback": [
      "\u001b[0;31m---------------------------------------------------------------------------\u001b[0m",
      "\u001b[0;31mNameError\u001b[0m                                 Traceback (most recent call last)",
      "\u001b[0;32m/tmp/SLURM_22715133/ipykernel_30767/667472150.py\u001b[0m in \u001b[0;36m<module>\u001b[0;34m\u001b[0m\n\u001b[1;32m     61\u001b[0m     \u001b[0my_train_pred_final\u001b[0m \u001b[0;34m=\u001b[0m \u001b[0my_train_pred_df\u001b[0m\u001b[0;34m.\u001b[0m\u001b[0mT\u001b[0m\u001b[0;34m.\u001b[0m\u001b[0mmode\u001b[0m\u001b[0;34m(\u001b[0m\u001b[0;34m)\u001b[0m\u001b[0;34m.\u001b[0m\u001b[0mT\u001b[0m\u001b[0;34m.\u001b[0m\u001b[0mloc\u001b[0m\u001b[0;34m[\u001b[0m\u001b[0mx_train\u001b[0m\u001b[0;34m.\u001b[0m\u001b[0mcolumns\u001b[0m\u001b[0;34m,\u001b[0m \u001b[0;34m:\u001b[0m\u001b[0;34m]\u001b[0m\u001b[0;34m[\u001b[0m\u001b[0;36m0\u001b[0m\u001b[0;34m]\u001b[0m\u001b[0;34m\u001b[0m\u001b[0;34m\u001b[0m\u001b[0m\n\u001b[1;32m     62\u001b[0m     \u001b[0my_test_pred_final\u001b[0m \u001b[0;34m=\u001b[0m \u001b[0my_test_pred_df\u001b[0m\u001b[0;34m.\u001b[0m\u001b[0mT\u001b[0m\u001b[0;34m.\u001b[0m\u001b[0mmode\u001b[0m\u001b[0;34m(\u001b[0m\u001b[0;34m)\u001b[0m\u001b[0;34m.\u001b[0m\u001b[0mT\u001b[0m\u001b[0;34m.\u001b[0m\u001b[0mloc\u001b[0m\u001b[0;34m[\u001b[0m\u001b[0mx_test\u001b[0m\u001b[0;34m.\u001b[0m\u001b[0mcolumns\u001b[0m\u001b[0;34m,\u001b[0m \u001b[0;34m:\u001b[0m\u001b[0;34m]\u001b[0m\u001b[0;34m[\u001b[0m\u001b[0;36m0\u001b[0m\u001b[0;34m]\u001b[0m\u001b[0;34m\u001b[0m\u001b[0;34m\u001b[0m\u001b[0m\n\u001b[0;32m---> 63\u001b[0;31m     \u001b[0;32mif\u001b[0m \u001b[0mgene_type\u001b[0m \u001b[0;34m==\u001b[0m \u001b[0;34m\"pair\"\u001b[0m\u001b[0;34m:\u001b[0m\u001b[0;34m\u001b[0m\u001b[0;34m\u001b[0m\u001b[0m\n\u001b[0m\u001b[1;32m     64\u001b[0m         \u001b[0my_train_pred_final\u001b[0m\u001b[0;34m[\u001b[0m\u001b[0my_train_pred_final\u001b[0m \u001b[0;34m==\u001b[0m \u001b[0;36m0\u001b[0m\u001b[0;34m]\u001b[0m \u001b[0;34m=\u001b[0m \u001b[0;34m'II'\u001b[0m\u001b[0;34m\u001b[0m\u001b[0;34m\u001b[0m\u001b[0m\n\u001b[1;32m     65\u001b[0m         \u001b[0my_train_pred_final\u001b[0m\u001b[0;34m[\u001b[0m\u001b[0my_train_pred_final\u001b[0m \u001b[0;34m==\u001b[0m \u001b[0;36m1\u001b[0m\u001b[0;34m]\u001b[0m \u001b[0;34m=\u001b[0m \u001b[0;34m'IO'\u001b[0m\u001b[0;34m\u001b[0m\u001b[0;34m\u001b[0m\u001b[0m\n",
      "\u001b[0;31mNameError\u001b[0m: name 'gene_type' is not defined"
     ]
    }
   ],
   "source": [
    "result = pd.DataFrame(columns=['auc', 'acc'])\n",
    "for i in range(start_idx, end_idx):\n",
    "    x_train, x_test, y_train, y_test = train_test_split(data, label.iloc[i, :], test_size=0.25)\n",
    "    y_train = pd.DataFrame(y_train)\n",
    "    y_test = pd.DataFrame(y_test)\n",
    "    pathway_genes = get_gene_pathways(\"../reactome/Ensembl2Reactome_All_Levels.txt\", species='human')\n",
    "    pathway_names = '../reactome/ReactomePathways.txt'\n",
    "    relations_file_name = '../reactome/ReactomePathwaysRelation.txt'\n",
    "    root_name = [0, 1]\n",
    "    masking, layers_node, gene_out = get_masking(pathway_names, pathway_genes, relations_file_name, x_train.T.index.tolist(), \n",
    "                                                root_name, n_hidden=n_hidden)\n",
    "    x_train = x_train.T.loc[gene_out, :]\n",
    "    x_test = x_test.T.loc[gene_out, :]\n",
    "\n",
    "    if y_train.iloc[:, 0].sum() > 0:\n",
    "        dt = x_train\n",
    "        dt.loc['label'] = y_train.iloc[:, 0]\n",
    "        dt = dt.T\n",
    "        dt0 = dt[dt['label'] == 0]\n",
    "        dt1 = dt[dt['label'] == 1]\n",
    "        index = np.random.randint(len(dt1), size=int(len(dt) - len(dt1)))\n",
    "        up_dt1 = dt1.iloc[list(index)]\n",
    "        up_dt = pd.concat([up_dt1, dt0])\n",
    "        y_train = pd.DataFrame(up_dt['label'])\n",
    "        x_train = up_dt\n",
    "        del x_train['label']\n",
    "        x_train = x_train.T\n",
    "    \n",
    "    y_train_pred_df = pd.DataFrame(data=0, index=x_train.columns, columns=list(range(2, len(masking) + 2)))\n",
    "    y_test_pred_df = pd.DataFrame(data=0, index=x_test.columns, columns=list(range(2, len(masking) + 2)))\n",
    "    activation_output = {}\n",
    "    for output_layer in range(2, len(masking) + 2):\n",
    "        print(\"Current neural network has \" + str(output_layer - 1) + \" hidden layers.\")\n",
    "        output_train, output_test = model(np.array(x_train),\n",
    "                                          one_hot_coding(y_train),\n",
    "                                          np.array(x_test),\n",
    "                                          layers_node,\n",
    "                                          masking,\n",
    "                                          output_layer,\n",
    "                                          learning_rate=learning_rate,\n",
    "                                          minibatch_size=minibatch_size,\n",
    "                                          num_epochs=num_epochs,\n",
    "                                          gamma=gamma,\n",
    "                                          print_cost=False)\n",
    "        for j in range(len(output_train)):\n",
    "            if (j != output_layer - 1):\n",
    "                output_train[j + 1] = pd.DataFrame(data=output_train[j + 1],\n",
    "                                                   index=layers_node[len(layers_node) - 2 - j],\n",
    "                                                   columns=x_train.columns)\n",
    "            else:\n",
    "                output_train[j + 1] = pd.DataFrame(data=output_train[j + 1], index=[0, 1],\n",
    "                                                   columns=x_train.columns)\n",
    "        activation_output[output_layer] = output_train\n",
    "        y_train_pred, y_test_pred = get_predictions(output_train, output_test, output_layer)\n",
    "        y_train_pred_df.loc[:, output_layer] = pd.DataFrame(y_train_pred,\n",
    "                                                            index=x_train.columns,\n",
    "                                                            columns=[output_layer])\n",
    "        y_test_pred_df.loc[:, output_layer] = pd.DataFrame(y_test_pred,\n",
    "                                                           index=x_test.columns,\n",
    "                                                           columns=[output_layer])\n",
    "    y_train_pred_final = y_train_pred_df.T.mode().T.loc[x_train.columns, :][0]\n",
    "    y_test_pred_final = y_test_pred_df.T.mode().T.loc[x_test.columns, :][0]\n",
    "    # if gene_type == \"pair\":\n",
    "    #     y_train_pred_final[y_train_pred_final == 0] = 'II'\n",
    "    #     y_train_pred_final[y_train_pred_final == 1] = 'IO'\n",
    "    #     y_train_pred_final[y_train_pred_final == 2] = 'OI'\n",
    "    #     y_train_pred_final[y_train_pred_final == 3] = 'OO'\n",
    "    #     y_test_pred_final[y_test_pred_final == 0] = 'II'\n",
    "    #     y_test_pred_final[y_test_pred_final == 1] = 'IO'\n",
    "    #     y_test_pred_final[y_test_pred_final == 2] = 'OI'\n",
    "    #     y_test_pred_final[y_test_pred_final == 3] = 'OO'\n",
    "    result.loc[label.index[i]] = [manual_auc(y_test, y_test_pred_final),\n",
    "                                  accuracy_score(y_test, y_test_pred_final)]\n",
    "    #result.to_csv(output_path)\n",
    "    print(i)\n",
    "    if result.iloc[i, 0] >= 0.6:\n",
    "       pathways_bigctp = get_pathway_importance(y_train, activation_output, thr=0.1)\n",
    "       #pathways_bigctp.to_csv(\"pathways_\" + label.index[i] + \".csv\")"
   ]
  }
 ],
 "metadata": {
  "kernelspec": {
   "display_name": "Python 3.9.2",
   "language": "python",
   "name": "py392"
  },
  "language_info": {
   "codemirror_mode": {
    "name": "ipython",
    "version": 3
   },
   "file_extension": ".py",
   "mimetype": "text/x-python",
   "name": "python",
   "nbconvert_exporter": "python",
   "pygments_lexer": "ipython3",
   "version": "3.9.2"
  }
 },
 "nbformat": 4,
 "nbformat_minor": 5
}
