{
 "cells": [
  {
   "cell_type": "code",
   "execution_count": 1,
   "id": "c6bb4091-40d5-42cb-bffe-df2c94a0e54f",
   "metadata": {},
   "outputs": [
    {
     "name": "stderr",
     "output_type": "stream",
     "text": [
      "2024-08-24 09:27:57.915605: W tensorflow/stream_executor/platform/default/dso_loader.cc:64] Could not load dynamic library 'libcudart.so.11.0'; dlerror: libcudart.so.11.0: cannot open shared object file: No such file or directory\n",
      "2024-08-24 09:27:57.915635: I tensorflow/stream_executor/cuda/cudart_stub.cc:29] Ignore above cudart dlerror if you do not have a GPU set up on your machine.\n"
     ]
    },
    {
     "name": "stdout",
     "output_type": "stream",
     "text": [
      "WARNING:tensorflow:From /home1/yinq/.local/lib/python3.9/site-packages/tensorflow/python/compat/v2_compat.py:107: disable_resource_variables (from tensorflow.python.ops.variable_scope) is deprecated and will be removed in a future version.\n",
      "Instructions for updating:\n",
      "non-resource variables are not supported in the long term\n"
     ]
    }
   ],
   "source": [
    "import numpy as np\n",
    "import pandas as pd\n",
    "import random\n",
    "from sklearn.model_selection import train_test_split\n",
    "from sklearn.metrics import accuracy_score, classification_report\n",
    "from pathway_hierarchy import *\n",
    "from neural_network import *\n",
    "from utils import *\n",
    "\n",
    "random.seed(1999)\n",
    "np.random.seed(1999)"
   ]
  },
  {
   "cell_type": "code",
   "execution_count": 59,
   "id": "f17433bd-2806-4bbd-bea7-28ca47abbba8",
   "metadata": {},
   "outputs": [],
   "source": [
    "input_gene_file_name = \"../../dataset/InputGene/temp.csv\"\n",
    "output_performance_file_name = \"3008FunctionalGene.csv\"\n",
    "if_functional = True\n",
    "start_idx = 3\n",
    "end_idx = 4\n",
    "n_hidden = 3\n",
    "learning_rate = 0.01\n",
    "minibatch_size = 128\n",
    "num_epochs = 100\n",
    "gamma = 0.0001\n",
    "pathway_AUC_cutoff = 0.6\n",
    "Dp_cutoff = 0.1\n",
    "tissue = \"Skin\""
   ]
  },
  {
   "cell_type": "code",
   "execution_count": 60,
   "id": "4f3b6e28-6457-461d-af62-d873238968c4",
   "metadata": {},
   "outputs": [
    {
     "name": "stderr",
     "output_type": "stream",
     "text": [
      "/tmp/SLURM_23427778/ipykernel_45120/3586628807.py:2: DtypeWarning: Columns (49,50,51,53) have mixed types. Specify dtype option on import or set low_memory=False.\n",
      "  mutation = pd.read_csv(\"../../dataset/OmicsSomaticMutations.csv\")\n",
      "/tmp/SLURM_23427778/ipykernel_45120/3586628807.py:7: DtypeWarning: Columns (18) have mixed types. Specify dtype option on import or set low_memory=False.\n",
      "  clinvar = pd.read_csv(\"../../dataset/ClinVar/ClinVar_variant_summary.txt\", delimiter='\\t')\n"
     ]
    }
   ],
   "source": [
    "data = pd.read_csv(\"../../dataset/CRISPRGeneEffect.csv\", index_col=0)\n",
    "mutation = pd.read_csv(\"../../dataset/OmicsSomaticMutations.csv\")\n",
    "mutation = mutation[mutation['VariantType'] == 'SNP']\n",
    "mutation = mutation[['Chrom', 'Pos', 'HugoSymbol', 'ModelID']]\n",
    "\n",
    "if if_functional:\n",
    "    clinvar = pd.read_csv(\"../../dataset/ClinVar/ClinVar_variant_summary.txt\", delimiter='\\t')\n",
    "    clinvar = clinvar[clinvar['Assembly'] == \"GRCh38\"]\n",
    "    clinvar = clinvar[clinvar['Type'] == \"single nucleotide variant\"]\n",
    "    pathogenicity = pd.read_csv(\"../../dataset/ClinVar/pathogenicity.csv\", index_col=0)\n",
    "    pathogenetic_type = list(pathogenicity[pathogenicity['Pathogenicity'] == 'Y']['Category'])\n",
    "    mutation_patho = clinvar[clinvar['ClinicalSignificance'].isin(pathogenetic_type)]\n",
    "    mutation_patho = mutation_patho[[\"Chromosome\", \"Start\", \"GeneSymbol\"]]\n",
    "    mutation_patho['Chromosome'] = mutation_patho['Chromosome'].apply(lambda x: 'chr' + str(x))\n",
    "    mutation['ID'] = mutation['Chrom'] + '-' + mutation['Pos'].astype(str)\n",
    "    mutation_patho['ID'] = mutation_patho['Chromosome'] + '-' + mutation_patho['Start'].astype(str)\n",
    "    mutation = mutation.sort_values(by=['ID'])\n",
    "    mutation_patho = mutation_patho.sort_values(by=['ID'])\n",
    "    mutation = pd.merge(mutation, mutation_patho, on='ID', how='inner')\n",
    "mutation = mutation[['ModelID', 'HugoSymbol']]\n",
    "mutation = mutation.sort_values([\"HugoSymbol\", \"ModelID\"])\n",
    "mutation = mutation.drop_duplicates()\n",
    "mutation.index = range(mutation.shape[0])"
   ]
  },
  {
   "cell_type": "code",
   "execution_count": 62,
   "id": "3284d0fb-57dd-45d6-90ca-5d9015d9edf2",
   "metadata": {},
   "outputs": [],
   "source": [
    "gene_col = list(data.columns)\n",
    "for i in range(len(gene_col)):\n",
    "    gene_col[i] = gene_col[i].split(' ')[0]\n",
    "data.columns = gene_col\n",
    "gene_info = pd.read_csv(\"../../dataset/InputGene/ScreenedGene.csv\")\n",
    "gene_info = gene_info.drop_duplicates(subset=['From'], keep='first')\n",
    "data = data[gene_info.iloc[:, 0]]\n",
    "data.columns = gene_info.iloc[:, 1]\n",
    "ifnull = data.isnull().sum()\n",
    "data = data[ifnull[ifnull == 0].index]"
   ]
  },
  {
   "cell_type": "code",
   "execution_count": 63,
   "id": "adf2ab08-32aa-4a30-b661-0064a27bc510",
   "metadata": {},
   "outputs": [],
   "source": [
    "mut_gene = pd.read_csv(input_gene_file_name, header=None)"
   ]
  },
  {
   "cell_type": "code",
   "execution_count": 64,
   "id": "7d0e659f-af3b-423c-9086-f48140b1e509",
   "metadata": {},
   "outputs": [],
   "source": [
    "label = pd.DataFrame(data=0, index=mut_gene.iloc[:, 0], columns=data.index)\n",
    "for i in range(label.shape[0]):\n",
    "    mut_sub = mutation[mutation['HugoSymbol'] == mut_gene.iloc[i, 0]]\n",
    "    model_sub = list(set(mut_sub['ModelID']) & set(label.columns))\n",
    "    label.iloc[i][model_sub] = 1"
   ]
  },
  {
   "cell_type": "code",
   "execution_count": 65,
   "id": "1bd67284-54f6-4c2b-809c-4a45964c4c0a",
   "metadata": {},
   "outputs": [],
   "source": [
    "cellLineInfo = pd.read_csv(\"../../dataset/Model.csv\", index_col=0)\n",
    "lineage = sorted(list(cellLineInfo['OncotreeLineage'].unique()))\n",
    "tissue_cellline = list(set(cellLineInfo[cellLineInfo['OncotreeLineage'] == tissue].index) & set(data.index))"
   ]
  },
  {
   "cell_type": "code",
   "execution_count": 66,
   "id": "e0c1a442-d447-48d7-9eca-1029231cc4e7",
   "metadata": {},
   "outputs": [],
   "source": [
    "x_train, x_test, y_train, y_test = train_test_split(data, label.iloc[i, :], test_size=0.25)\n",
    "y_train = pd.DataFrame(y_train)\n",
    "y_test = pd.DataFrame(y_test)\n",
    "pathway_genes = get_gene_pathways(\"../../dataset/reactome/Ensembl2Reactome_All_Levels.txt\", species='human')\n",
    "pathway_names = '../../dataset/reactome/ReactomePathways.txt'\n",
    "relations_file_name = '../../dataset/reactome/ReactomePathwaysRelation.txt'\n",
    "root_name = [0, 1]\n",
    "masking, layers_node, gene_out = get_masking(pathway_names, pathway_genes, relations_file_name, x_train.T.index.tolist(), \n",
    "                                            root_name, n_hidden=n_hidden)\n",
    "x_train = x_train.T.loc[gene_out, :]\n",
    "x_test = x_test.T.loc[gene_out, :]\n",
    "\n",
    "if y_train.iloc[:, 0].sum() > 0:\n",
    "    dt = x_train\n",
    "    dt.loc['label'] = y_train.iloc[:, 0]\n",
    "    dt = dt.T\n",
    "    dt0 = dt[dt['label'] == 0]\n",
    "    dt1 = dt[dt['label'] == 1]\n",
    "    index = np.random.randint(len(dt1), size=int(len(dt) - len(dt1)))\n",
    "    up_dt1 = dt1.iloc[list(index)]\n",
    "    up_dt = pd.concat([up_dt1, dt0])\n",
    "    y_train = pd.DataFrame(up_dt['label'])\n",
    "    x_train = up_dt\n",
    "    del x_train['label']\n",
    "    x_train = x_train.T\n",
    "\n",
    "y_train_pred_df = pd.DataFrame(data=0, index=x_train.columns, columns=list(range(2, len(masking) + 2)))\n",
    "y_test_pred_df = pd.DataFrame(data=0, index=x_test.columns, columns=list(range(2, len(masking) + 2)))\n",
    "activation_output = {}\n",
    "tissue_cellline = list(set(tissue_cellline) & set(x_train.columns))"
   ]
  },
  {
   "cell_type": "code",
   "execution_count": 67,
   "id": "76796092-ecab-437b-bc58-f8dc004ba732",
   "metadata": {},
   "outputs": [
    {
     "name": "stdout",
     "output_type": "stream",
     "text": [
      "Current neural network has 1 hidden layers.\n"
     ]
    },
    {
     "name": "stderr",
     "output_type": "stream",
     "text": [
      "/tmp/SLURM_23427778/ipykernel_45120/1603526806.py:24: DeprecationWarning: In a future version, `df.iloc[:, i] = newvals` will attempt to set the values inplace instead of always setting a new array. To retain the old behavior, use either `df[df.columns[i]] = newvals` or, if columns are non-unique, `df.isetitem(i, newvals)`\n",
      "  y_train_pred_df.loc[:, output_layer] = pd.DataFrame(y_train_pred,\n",
      "/tmp/SLURM_23427778/ipykernel_45120/1603526806.py:27: DeprecationWarning: In a future version, `df.iloc[:, i] = newvals` will attempt to set the values inplace instead of always setting a new array. To retain the old behavior, use either `df[df.columns[i]] = newvals` or, if columns are non-unique, `df.isetitem(i, newvals)`\n",
      "  y_test_pred_df.loc[:, output_layer] = pd.DataFrame(y_test_pred,\n"
     ]
    },
    {
     "name": "stdout",
     "output_type": "stream",
     "text": [
      "Current neural network has 2 hidden layers.\n"
     ]
    },
    {
     "name": "stderr",
     "output_type": "stream",
     "text": [
      "/tmp/SLURM_23427778/ipykernel_45120/1603526806.py:24: DeprecationWarning: In a future version, `df.iloc[:, i] = newvals` will attempt to set the values inplace instead of always setting a new array. To retain the old behavior, use either `df[df.columns[i]] = newvals` or, if columns are non-unique, `df.isetitem(i, newvals)`\n",
      "  y_train_pred_df.loc[:, output_layer] = pd.DataFrame(y_train_pred,\n",
      "/tmp/SLURM_23427778/ipykernel_45120/1603526806.py:27: DeprecationWarning: In a future version, `df.iloc[:, i] = newvals` will attempt to set the values inplace instead of always setting a new array. To retain the old behavior, use either `df[df.columns[i]] = newvals` or, if columns are non-unique, `df.isetitem(i, newvals)`\n",
      "  y_test_pred_df.loc[:, output_layer] = pd.DataFrame(y_test_pred,\n"
     ]
    },
    {
     "name": "stdout",
     "output_type": "stream",
     "text": [
      "Current neural network has 3 hidden layers.\n"
     ]
    },
    {
     "name": "stderr",
     "output_type": "stream",
     "text": [
      "/tmp/SLURM_23427778/ipykernel_45120/1603526806.py:24: DeprecationWarning: In a future version, `df.iloc[:, i] = newvals` will attempt to set the values inplace instead of always setting a new array. To retain the old behavior, use either `df[df.columns[i]] = newvals` or, if columns are non-unique, `df.isetitem(i, newvals)`\n",
      "  y_train_pred_df.loc[:, output_layer] = pd.DataFrame(y_train_pred,\n",
      "/tmp/SLURM_23427778/ipykernel_45120/1603526806.py:27: DeprecationWarning: In a future version, `df.iloc[:, i] = newvals` will attempt to set the values inplace instead of always setting a new array. To retain the old behavior, use either `df[df.columns[i]] = newvals` or, if columns are non-unique, `df.isetitem(i, newvals)`\n",
      "  y_test_pred_df.loc[:, output_layer] = pd.DataFrame(y_test_pred,\n"
     ]
    }
   ],
   "source": [
    "for output_layer in range(2, len(masking) + 2):\n",
    "    print(\"Current neural network has \" + str(output_layer - 1) + \" hidden layers.\")\n",
    "    output_train, output_test = model(np.array(x_train),\n",
    "                                      one_hot_coding(y_train),\n",
    "                                      np.array(x_test),\n",
    "                                      layers_node,\n",
    "                                      masking,\n",
    "                                      output_layer,\n",
    "                                      learning_rate=learning_rate,\n",
    "                                      minibatch_size=minibatch_size,\n",
    "                                      num_epochs=num_epochs,\n",
    "                                      gamma=gamma,\n",
    "                                      print_cost=False)\n",
    "    for j in range(len(output_train)):\n",
    "        if (j != output_layer - 1):\n",
    "            output_train[j + 1] = pd.DataFrame(data=output_train[j + 1],\n",
    "                                               index=layers_node[len(layers_node) - 2 - j],\n",
    "                                               columns=x_train.columns)\n",
    "            output_train[j + 1] = output_train[j + 1][\n",
    "        else:\n",
    "            output_train[j + 1] = pd.DataFrame(data=output_train[j + 1], index=[0, 1],\n",
    "                                               columns=x_train.columns)\n",
    "    activation_output[output_layer] = output_train\n",
    "    '''\n",
    "    y_train_pred, y_test_pred = get_predictions(output_train, output_test, output_layer)\n",
    "    y_train_pred_df.loc[:, output_layer] = pd.DataFrame(y_train_pred,\n",
    "                                                        index=x_train.columns,\n",
    "                                                        columns=[output_layer])\n",
    "    y_test_pred_df.loc[:, output_layer] = pd.DataFrame(y_test_pred,\n",
    "                                                       index=x_test.columns,\n",
    "                                                       columns=[output_layer])\n",
    "    '''"
   ]
  },
  {
   "cell_type": "code",
   "execution_count": 70,
   "id": "0c546e95-9aed-4b06-b4fd-0c16ebb15c0c",
   "metadata": {},
   "outputs": [
    {
     "data": {
      "text/plain": [
       "{1: ModelID        ACH-000880  ACH-000247  ACH-000958  ACH-000787  ACH-000878  \\\n",
       " R-HSA-9662360    0.087385    0.009249    0.136089    0.111948    0.004520   \n",
       " R-HSA-70895     -0.099560   -0.026450   -0.018277   -0.124769    0.022650   \n",
       " R-HSA-156580     0.008966    0.003137   -0.011699   -0.014872   -0.016860   \n",
       " R-HSA-9734009   -0.081440   -0.030855   -0.000139   -0.074727    0.138957   \n",
       " R-HSA-163765     0.029241    0.063245    0.025651    0.036068    0.041979   \n",
       " ...                   ...         ...         ...         ...         ...   \n",
       " R-HSA-73980     -0.028962   -0.051416   -0.043948   -0.025567   -0.036694   \n",
       " R-HSA-74752      0.131034    0.185414    0.105866    0.177262   -0.013175   \n",
       " R-HSA-1799339    0.999569    0.999753    0.999693    0.999567    0.999424   \n",
       " R-HSA-3371556   -0.127663   -0.238986   -0.072348   -0.101422   -0.119137   \n",
       " R-HSA-9658195    0.117382    0.093620    0.074089    0.106433    0.093140   \n",
       " \n",
       " ModelID        ACH-000878  ACH-000958  ACH-000898  ACH-002026  ACH-000671  \\\n",
       " R-HSA-9662360    0.004520    0.136089    0.126130    0.019798    0.160133   \n",
       " R-HSA-70895      0.022650   -0.018277   -0.066949   -0.099512   -0.198685   \n",
       " R-HSA-156580    -0.016860   -0.011699   -0.012992   -0.003651    0.039624   \n",
       " R-HSA-9734009    0.138957   -0.000139   -0.108131   -0.067724   -0.023547   \n",
       " R-HSA-163765     0.041979    0.025651    0.033780    0.020030    0.052584   \n",
       " ...                   ...         ...         ...         ...         ...   \n",
       " R-HSA-73980     -0.036694   -0.043948   -0.052175   -0.031904   -0.041017   \n",
       " R-HSA-74752     -0.013175    0.105866    0.107020    0.099194    0.162988   \n",
       " R-HSA-1799339    0.999424    0.999693    0.999574    0.999549    0.999517   \n",
       " R-HSA-3371556   -0.119137   -0.072348   -0.116517   -0.077757   -0.105701   \n",
       " R-HSA-9658195    0.093140    0.074089    0.056738    0.119522    0.123813   \n",
       " \n",
       " ModelID        ...  ACH-001442  ACH-001526  ACH-000517  ACH-001129  \\\n",
       " R-HSA-9662360  ...    0.012224    0.176127   -0.066579    0.124111   \n",
       " R-HSA-70895    ...   -0.025743    0.078517   -0.005036    0.046689   \n",
       " R-HSA-156580   ...    0.047623    0.021944    0.029695    0.064136   \n",
       " R-HSA-9734009  ...    0.008398    0.057294   -0.029253    0.095029   \n",
       " R-HSA-163765   ...    0.023804    0.027153    0.024293    0.018534   \n",
       " ...            ...         ...         ...         ...         ...   \n",
       " R-HSA-73980    ...   -0.039860   -0.045015   -0.051798   -0.035823   \n",
       " R-HSA-74752    ...    0.188903    0.093887    0.230347    0.170263   \n",
       " R-HSA-1799339  ...    0.999509    0.999258    0.999366    0.999451   \n",
       " R-HSA-3371556  ...   -0.186875   -0.235232   -0.161748   -0.166810   \n",
       " R-HSA-9658195  ...    0.059117    0.030130    0.106582    0.062500   \n",
       " \n",
       " ModelID        ACH-000470  ACH-000052  ACH-000704  ACH-001574  ACH-000985  \\\n",
       " R-HSA-9662360   -0.272058    0.093937    0.024403    0.069332   -0.137684   \n",
       " R-HSA-70895     -0.022299   -0.023032    0.033733   -0.161042   -0.022600   \n",
       " R-HSA-156580    -0.015016    0.079657    0.038046    0.102833   -0.032468   \n",
       " R-HSA-9734009    0.145378    0.090297   -0.039229   -0.063370   -0.023196   \n",
       " R-HSA-163765     0.054227    0.023857    0.051715    0.034654    0.043061   \n",
       " ...                   ...         ...         ...         ...         ...   \n",
       " R-HSA-73980     -0.032519   -0.049260   -0.034440   -0.039073   -0.032510   \n",
       " R-HSA-74752      0.244094    0.244375    0.166639    0.133357    0.163236   \n",
       " R-HSA-1799339    0.998315    0.999220    0.999532    0.999625    0.999163   \n",
       " R-HSA-3371556   -0.128681   -0.205546   -0.222259   -0.167306   -0.264070   \n",
       " R-HSA-9658195    0.071273    0.063026    0.072184    0.067187    0.021859   \n",
       " \n",
       " ModelID        ACH-001212  \n",
       " R-HSA-9662360    0.067008  \n",
       " R-HSA-70895     -0.054857  \n",
       " R-HSA-156580     0.107443  \n",
       " R-HSA-9734009   -0.339567  \n",
       " R-HSA-163765     0.023629  \n",
       " ...                   ...  \n",
       " R-HSA-73980     -0.041795  \n",
       " R-HSA-74752      0.062658  \n",
       " R-HSA-1799339    0.999564  \n",
       " R-HSA-3371556   -0.151281  \n",
       " R-HSA-9658195    0.044909  \n",
       " \n",
       " [488 rows x 1598 columns],\n",
       " 2: ModelID  ACH-000880  ACH-000247  ACH-000958  ACH-000787  ACH-000878  \\\n",
       " 0         -4.059617   -4.453803   -4.119631   -3.698566   -4.065223   \n",
       " 1          3.609523    4.212278    3.879058    3.363280    3.730417   \n",
       " \n",
       " ModelID  ACH-000878  ACH-000958  ACH-000898  ACH-002026  ACH-000671  ...  \\\n",
       " 0         -4.065223   -4.119631   -4.196898   -4.011070   -4.157164  ...   \n",
       " 1          3.730417    3.879058    3.881613    3.563538    4.026661  ...   \n",
       " \n",
       " ModelID  ACH-001442  ACH-001526  ACH-000517  ACH-001129  ACH-000470  \\\n",
       " 0          4.271731    2.934201    5.507470    5.776581    2.720591   \n",
       " 1         -4.749678   -3.171445   -6.124318   -6.306962   -2.900602   \n",
       " \n",
       " ModelID  ACH-000052  ACH-000704  ACH-001574  ACH-000985  ACH-001212  \n",
       " 0          5.345190    5.631177    3.323788    2.214303     2.65502  \n",
       " 1         -5.780055   -6.175915   -3.930046   -2.620963    -3.16775  \n",
       " \n",
       " [2 rows x 1598 columns]}"
      ]
     },
     "execution_count": 70,
     "metadata": {},
     "output_type": "execute_result"
    }
   ],
   "source": [
    "activation_output[2]"
   ]
  },
  {
   "cell_type": "code",
   "execution_count": null,
   "id": "f9929078-e9b1-42c5-a923-d5c88a0caf1d",
   "metadata": {},
   "outputs": [],
   "source": []
  },
  {
   "cell_type": "code",
   "execution_count": null,
   "id": "591201e7-e450-4adc-b1e5-b6a1b211e3b5",
   "metadata": {},
   "outputs": [],
   "source": []
  },
  {
   "cell_type": "code",
   "execution_count": null,
   "id": "e68303cc-ffbd-4e75-a895-7481d9b91406",
   "metadata": {},
   "outputs": [],
   "source": []
  },
  {
   "cell_type": "code",
   "execution_count": null,
   "id": "3e6b4ec2-00d6-4fc5-8a4b-5c66607937b8",
   "metadata": {},
   "outputs": [],
   "source": []
  },
  {
   "cell_type": "code",
   "execution_count": null,
   "id": "5610cd6e-47a1-483d-970a-81b6b79a0ffc",
   "metadata": {},
   "outputs": [],
   "source": []
  },
  {
   "cell_type": "code",
   "execution_count": null,
   "id": "8832e011-f78d-4ad6-a6eb-791ca16ffcad",
   "metadata": {},
   "outputs": [],
   "source": [
    "result = pd.DataFrame(columns=['auc', 'acc'])\n",
    "for i in range(start_idx, end_idx):\n",
    "#for i in range(label.shape[0]):\n",
    "    x_train, x_test, y_train, y_test = train_test_split(data, label.iloc[i, :], test_size=0.25)\n",
    "    y_train = pd.DataFrame(y_train)\n",
    "    y_test = pd.DataFrame(y_test)\n",
    "    pathway_genes = get_gene_pathways(\"../../dataset/reactome/Ensembl2Reactome_All_Levels.txt\", species='human')\n",
    "    pathway_names = '../../dataset/reactome/ReactomePathways.txt'\n",
    "    relations_file_name = '../../dataset/reactome/ReactomePathwaysRelation.txt'\n",
    "    root_name = [0, 1]\n",
    "    masking, layers_node, gene_out = get_masking(pathway_names, pathway_genes, relations_file_name, x_train.T.index.tolist(), \n",
    "                                                root_name, n_hidden=n_hidden)\n",
    "    x_train = x_train.T.loc[gene_out, :]\n",
    "    x_test = x_test.T.loc[gene_out, :]\n",
    "\n",
    "    if y_train.iloc[:, 0].sum() > 0:\n",
    "        dt = x_train\n",
    "        dt.loc['label'] = y_train.iloc[:, 0]\n",
    "        dt = dt.T\n",
    "        dt0 = dt[dt['label'] == 0]\n",
    "        dt1 = dt[dt['label'] == 1]\n",
    "        index = np.random.randint(len(dt1), size=int(len(dt) - len(dt1)))\n",
    "        up_dt1 = dt1.iloc[list(index)]\n",
    "        up_dt = pd.concat([up_dt1, dt0])\n",
    "        y_train = pd.DataFrame(up_dt['label'])\n",
    "        x_train = up_dt\n",
    "        del x_train['label']\n",
    "        x_train = x_train.T\n",
    "    \n",
    "    y_train_pred_df = pd.DataFrame(data=0, index=x_train.columns, columns=list(range(2, len(masking) + 2)))\n",
    "    y_test_pred_df = pd.DataFrame(data=0, index=x_test.columns, columns=list(range(2, len(masking) + 2)))\n",
    "    activation_output = {}\n",
    "    for output_layer in range(2, len(masking) + 2):\n",
    "        print(\"Current neural network has \" + str(output_layer - 1) + \" hidden layers.\")\n",
    "        output_train, output_test = model(np.array(x_train),\n",
    "                                          one_hot_coding(y_train),\n",
    "                                          np.array(x_test),\n",
    "                                          layers_node,\n",
    "                                          masking,\n",
    "                                          output_layer,\n",
    "                                          learning_rate=learning_rate,\n",
    "                                          minibatch_size=minibatch_size,\n",
    "                                          num_epochs=num_epochs,\n",
    "                                          gamma=gamma,\n",
    "                                          print_cost=False)\n",
    "        for j in range(len(output_train)):\n",
    "            if (j != output_layer - 1):\n",
    "                output_train[j + 1] = pd.DataFrame(data=output_train[j + 1],\n",
    "                                                   index=layers_node[len(layers_node) - 2 - j],\n",
    "                                                   columns=x_train.columns)\n",
    "            else:\n",
    "                output_train[j + 1] = pd.DataFrame(data=output_train[j + 1], index=[0, 1],\n",
    "                                                   columns=x_train.columns)\n",
    "        activation_output[output_layer] = output_train\n",
    "        y_train_pred, y_test_pred = get_predictions(output_train, output_test, output_layer)\n",
    "        y_train_pred_df.loc[:, output_layer] = pd.DataFrame(y_train_pred,\n",
    "                                                            index=x_train.columns,\n",
    "                                                            columns=[output_layer])\n",
    "        y_test_pred_df.loc[:, output_layer] = pd.DataFrame(y_test_pred,\n",
    "                                                           index=x_test.columns,\n",
    "                                                           columns=[output_layer])\n",
    "    y_train_pred_final = y_train_pred_df.T.mode().T.loc[x_train.columns, :][0]\n",
    "    y_test_pred_final = y_test_pred_df.T.mode().T.loc[x_test.columns, :][0]\n",
    "\n",
    "    result.loc[label.index[i]] = [manual_auc(y_test, y_test_pred_final),\n",
    "                                  accuracy_score(y_test, y_test_pred_final)]\n",
    "    # result.to_csv(output_performance_file_name)\n",
    "    #print(i)\n",
    "    if result.iloc[(i - start_idx), 0] >= pathway_AUC_cutoff:\n",
    "       pathways = get_pathway_importance(y_train, activation_output, thr=Dp_cutoff)\n",
    "       #pathways.to_csv(\"pathways_\" + label.index[i] + \".csv\")"
   ]
  }
 ],
 "metadata": {
  "kernelspec": {
   "display_name": "Python 3.9.2",
   "language": "python",
   "name": "py392"
  },
  "language_info": {
   "codemirror_mode": {
    "name": "ipython",
    "version": 3
   },
   "file_extension": ".py",
   "mimetype": "text/x-python",
   "name": "python",
   "nbconvert_exporter": "python",
   "pygments_lexer": "ipython3",
   "version": "3.9.2"
  }
 },
 "nbformat": 4,
 "nbformat_minor": 5
}
